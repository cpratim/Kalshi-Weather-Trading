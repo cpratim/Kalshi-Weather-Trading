{
 "cells": [
  {
   "cell_type": "code",
   "execution_count": 41,
   "metadata": {},
   "outputs": [
    {
     "name": "stdout",
     "output_type": "stream",
     "text": [
      "0.5000069514303054\n",
      "[-0.299, -0.076, 0.058, 0.035, -0.032]\n",
      "0.7852812659593166\n"
     ]
    }
   ],
   "source": [
    "from scipy import optimize\n",
    "from scipy.optimize import NonlinearConstraint\n",
    "import numpy as np\n",
    "from warnings import filterwarnings\n",
    "\n",
    "filterwarnings(\"ignore\")\n",
    "\n",
    "constraint = NonlinearConstraint(lambda x: np.sum(np.abs(x)), 0, 1)\n",
    "\n",
    "\n",
    "def sharpe_ratio(weights, signal_dist=[], kalshi_dist=[]):\n",
    "    exp, exp_sq = 0, 0\n",
    "    for i in range(len(weights)):\n",
    "        v = 0\n",
    "        for j in range(len(weights)):\n",
    "            y, n = kalshi_dist[j], 1 - kalshi_dist[j]\n",
    "            if j == i:\n",
    "                if weights[j] > 0:\n",
    "                    v += weights[j] * (1 - y)\n",
    "                else:\n",
    "                    v += abs(weights[j]) * -n\n",
    "            else:\n",
    "                if weights[j] > 0:\n",
    "                    v += weights[j] * -y\n",
    "                else:\n",
    "                    v += abs(weights[j]) * (1 - n)\n",
    "        exp += signal_dist[i] * v\n",
    "        exp_sq += signal_dist[i] * v * v\n",
    "\n",
    "    var = exp_sq - exp * exp\n",
    "    return -(exp / np.sqrt(var))\n",
    "\n",
    "\n",
    "signal_dist = [0.1, 0.3, 0.3, 0.2, 0.1]\n",
    "kalshi_dist = [0.3, 0.4, 0.1, 0.1, 0.1]\n",
    "\n",
    "x0 = np.zeros(len(signal_dist))\n",
    "bounds = [(-1, 1) for _ in range(len(signal_dist))]\n",
    "result = optimize.differential_evolution(\n",
    "    sharpe_ratio,\n",
    "    bounds,\n",
    "    args=(signal_dist, kalshi_dist),\n",
    "    constraints=[constraint],\n",
    "    popsize=100,\n",
    "    maxiter=1000,\n",
    ")\n",
    "print(np.sum(np.abs(result.x)))\n",
    "print(list([round(float(x), 3) for x in result.x]))\n",
    "print(-sharpe_ratio(result.x, signal_dist, kalshi_dist))"
   ]
  }
 ],
 "metadata": {
  "kernelspec": {
   "display_name": "quant",
   "language": "python",
   "name": "python3"
  },
  "language_info": {
   "codemirror_mode": {
    "name": "ipython",
    "version": 3
   },
   "file_extension": ".py",
   "mimetype": "text/x-python",
   "name": "python",
   "nbconvert_exporter": "python",
   "pygments_lexer": "ipython3",
   "version": "3.12.9"
  }
 },
 "nbformat": 4,
 "nbformat_minor": 2
}
